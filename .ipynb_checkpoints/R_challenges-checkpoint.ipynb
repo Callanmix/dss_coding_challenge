{
 "cells": [
  {
   "cell_type": "code",
   "execution_count": 2,
   "metadata": {},
   "outputs": [],
   "source": [
    "pacman::p_load(tidyverse)"
   ]
  },
  {
   "cell_type": "markdown",
   "metadata": {},
   "source": [
    "## Challange 1\n",
    "\n",
    "Challenge Description:\n",
    "Use the input data to find the sum of the numbers.\n",
    "\n",
    "Input Data: 3 5"
   ]
  },
  {
   "cell_type": "code",
   "execution_count": null,
   "metadata": {},
   "outputs": [],
   "source": []
  },
  {
   "cell_type": "markdown",
   "metadata": {},
   "source": [
    "## Challenge 2\n",
    "\n",
    "Challenge Description:\n",
    "Write a small program to find the sum of all the numbers in the input data.\n",
    "\n",
    "*NOTE* If a problem requires pre-defined input data it can be found as a .txt file\n",
    "in the root directory of this repo. You are free to use the input data in anyway\n",
    "you'd like as long as no data is changed. \n",
    "\n",
    "Input Data (data/input_data_02.txt): "
   ]
  },
  {
   "cell_type": "code",
   "execution_count": null,
   "metadata": {},
   "outputs": [],
   "source": []
  },
  {
   "cell_type": "markdown",
   "metadata": {},
   "source": [
    "## Challenge 3\n",
    "\n",
    "Challenge Description:\n",
    "Now we are given several pairs of values we want to calculate the sum for each pair.\n",
    "\n",
    "Bonus:\n",
    "Handle the pairs as strings explicitly (i.e. do not read the pairs into a dataframe, but read the pairs in as a string and handle appropriatley)\n",
    "\n",
    "Input Data contain pairs themselves - one pair at each line.\n",
    "Input Data (data/input_data_03.txt):"
   ]
  },
  {
   "cell_type": "code",
   "execution_count": null,
   "metadata": {},
   "outputs": [],
   "source": []
  },
  {
   "cell_type": "markdown",
   "metadata": {},
   "source": [
    "## Challenge 4\n",
    "\n",
    "Challenge Description:\n",
    "Most programs should be able to make some choices and decisions. And we are going to practice conditional programming now.\n",
    "This is usually done by a kind of if ... else. For those who are familiar with R, you might find it more natural to use other methods.\n",
    "Of two numbers, please, select the one with the minimum value.\n",
    "\n",
    "Input Data will contain pairs themselves - one pair at each line.\n",
    "\n",
    "Input Data (data/input_data_04.txt):"
   ]
  },
  {
   "cell_type": "code",
   "execution_count": null,
   "metadata": {},
   "outputs": [],
   "source": []
  },
  {
   "cell_type": "markdown",
   "metadata": {},
   "source": [
    "## Challenge 5\n",
    "\n",
    "Challenge Description:\n",
    "There are two widespread systems of measuring temperature - Celsius and Fahrenheit. \n",
    "First is quite popular in Europe and second is well in use in United States for example.\n",
    "By Celsius scale water freezes at 0 degrees and boils at 100 degrees. \n",
    "By Fahrenheit water freezes at 32 degrees and boils at 212 degrees. \n",
    "You may learn more from wikipedia on Fahrenheit. Use these two points for conversion of other temperatures.\n",
    "You are to write program to convert degrees of Fahrenheit to Celsius.\n",
    "\n",
    "Input Data (data/input_data_05.txt): "
   ]
  },
  {
   "cell_type": "code",
   "execution_count": null,
   "metadata": {},
   "outputs": [],
   "source": []
  },
  {
   "cell_type": "markdown",
   "metadata": {},
   "source": [
    "## Challenge 6\n",
    "\n",
    "Challenge Description:\n",
    "If we list all the natural numbers below 10 that are multiples of 3 or 5, we get 3, 5, 6 and 9. \n",
    "The sum of these multiples is 23. Find the sum of all the multiples of 3 or 5 below 1000.\n",
    "\n",
    "Test Case: 3 + 5 + 6 + 9 = 23"
   ]
  },
  {
   "cell_type": "code",
   "execution_count": null,
   "metadata": {},
   "outputs": [],
   "source": []
  },
  {
   "cell_type": "markdown",
   "metadata": {},
   "source": [
    "## Challenge 7\n",
    "\n",
    "Challenge Description:\n",
    "This is a simple problem to get introduced to string processing. \n",
    "We will be given several lines of text - and for each of them we want to know the number of vowels (i.e. letters a, o, u, i, e, y). \n",
    "Note: that y is regarded as a vowel for purpose of this challenge.\n",
    "\n",
    "Input Data (data/input_data_07.txt):"
   ]
  },
  {
   "cell_type": "code",
   "execution_count": null,
   "metadata": {},
   "outputs": [],
   "source": []
  },
  {
   "cell_type": "markdown",
   "metadata": {},
   "source": [
    "## Challenge 8\n",
    "\n",
    "Challenge Description:\n",
    "This program resembles more complex algorithms for calculation CRC and other checksums and also hash-functions on character strings. \n",
    "Besides it will provide you with one more exercise on splitting values to decimal digits. \n",
    "Let us calculate sum of digits, as earlier, but multiplying each digit by its position (counting from the left, starting from 1). \n",
    "For example, given the value 1776 we calculate such weighted sum of digits (let us call it \"wsd\") as:\n",
    "\n",
    "Test-Case: wsd(1776) = 1 * 1 + 7 * 2 + 7 * 3 + 6 * 4 = 60\n",
    "\n",
    "Bonus: Use library(purrr) to achieve your answer\n",
    "\n",
    "Input Data (data/input_data_08.txt):"
   ]
  },
  {
   "cell_type": "code",
   "execution_count": null,
   "metadata": {},
   "outputs": [],
   "source": []
  },
  {
   "cell_type": "markdown",
   "metadata": {},
   "source": [
    "## Challenge 9\n",
    "\n",
    "Challenge Description:\n",
    "Regarded as probably the most fundemental interview screening question. \n",
    "Fizzbuzz is a challenge where you must print all integers from 1 to 100 \n",
    "where every number divisible by 3 is replaced with \"Fizz\", \n",
    "every number divisible by 5 is replaced with \"Buzz\", \n",
    "and every number divisible by both 3 and 5 is replaced with \"FizzBuzz\".\n",
    "Example: 1, 2, Fizz, 4, Buzz, Fizz, 7, 8, Fizz, Buzz, 11, Fizz, 13, 14, FizzBuzz, 16 ...\n",
    "\n",
    "Bonus: Solve the problem without explicit iteration. (ie No For Loops)"
   ]
  },
  {
   "cell_type": "code",
   "execution_count": null,
   "metadata": {},
   "outputs": [],
   "source": []
  },
  {
   "cell_type": "markdown",
   "metadata": {},
   "source": [
    "## Challenge 10\n",
    "\n",
    "Challenge Description:\n",
    "Most traditional programmers will run into a problem involving the fibonacci sequence early on in their programming tenure. \n",
    "The Fibonacci sequence can demonstrate many uses of iteration and recurssion. For those who aren't familiar, the Fibonacci \n",
    "sequence is generated as follows: 0-th value is 0; 1-st value is 1; all next values are sum of two immediately preceeding.\n",
    "\n",
    "Example: 0, 1, 1, 2, 3, 5, 8, 13, 21, 34, 55, 89, 144, 233, 377, 610, 987, ...\n",
    "\n",
    "Your challenge is to consider the terms in the Fibonacci sequence whose values do not exceed four million,\n",
    "find the sum of the even-valued terms.\n",
    "\n",
    "Bonus: Solve the problem using the closed-form solution to the Fibonacci sequence"
   ]
  },
  {
   "cell_type": "code",
   "execution_count": null,
   "metadata": {},
   "outputs": [],
   "source": []
  },
  {
   "cell_type": "markdown",
   "metadata": {},
   "source": [
    "## Challenge 11\n",
    "\n",
    "Challenge Description:\n",
    "The word or whole phrase which has the same sequence of letters in both directions is called a palindrome.\n",
    "\n",
    "Example: hannah, racecar, was it a cat i saw\n",
    "\n",
    "Your goal is to determine from the input data which inputs are palindromes and which are not.\n",
    "Please note that palindromes do not account for spaces or punctuation.\n",
    "Your answer should be recorded as a vector of boolean values.\n",
    "\n",
    "Input Data (data/input_data_11.txt):"
   ]
  },
  {
   "cell_type": "code",
   "execution_count": null,
   "metadata": {},
   "outputs": [],
   "source": []
  },
  {
   "cell_type": "markdown",
   "metadata": {},
   "source": [
    "## Challenge 12\n",
    "\n",
    "Challenge Description:\n",
    "One of the many advantages to the R language is its optimized matrix operations.\n",
    "Unfortunately, we rarely get to see those operations because they are abstracted away underneath pre-built functions.\n",
    "For this challenge, we will compute the least squares estimate of a simple linear regression using matrix algebra.\n",
    "\n",
    "Hint: Ensure your data is in the correct data-type (ie matrix)\n",
    "Hint: Make sure you have a column of 1's in order to compute the intercept coefficient. \n",
    "Hint: Check your work using lm(Y ~ X1, data = foo)\n",
    "\n",
    "Suggested Reading (Section: \"An example\"): https://onlinecourses.science.psu.edu/stat501/node/382/\n",
    "\n",
    "Input Data (data/input_data_12.txt):"
   ]
  },
  {
   "cell_type": "code",
   "execution_count": null,
   "metadata": {},
   "outputs": [],
   "source": []
  },
  {
   "cell_type": "markdown",
   "metadata": {},
   "source": [
    "# Challenge 13 - \"All your Base8^2\"\n",
    "????\n",
    "Q29uZ3JhdHVsYXRpb25zISBZb3UgaGF2ZSBzb2x2ZWQgQ2hhbGxlbmdlIDEzLiBZb3UgYXJlIG5vdyByZXdhcmRlZCAzMiBwb2ludHMu"
   ]
  },
  {
   "cell_type": "code",
   "execution_count": null,
   "metadata": {},
   "outputs": [],
   "source": []
  },
  {
   "cell_type": "markdown",
   "metadata": {},
   "source": [
    "## Challenge 14\n",
    "\n",
    "Challenge Description:\n",
    "Suppose it has been shown that in cases of accounting fraud, \n",
    "the distribution of illegitimate number entries show a higher use of the number \"7\".\n",
    "For some reason, the human mind when making up fake numbers tend to over use this number. \n",
    "The input data for this challenge contains entries from several accountants:\n",
    "\"John\", \"Sarah\", \"Mike\", \"Nyalla\", \"Kerry\", and \"Craig\". \n",
    "It is your job to find out who the possible fraudster is and send them to jail.\n",
    "\n",
    "Input Data (data/input_data_14.txt):"
   ]
  },
  {
   "cell_type": "code",
   "execution_count": null,
   "metadata": {},
   "outputs": [],
   "source": []
  },
  {
   "cell_type": "markdown",
   "metadata": {},
   "source": [
    "## Challenge 15\n",
    "\n",
    "Challenge Description:\n",
    "In recent years R has come out with several packages to bring it into a more contemporary general purpose programming language. \n",
    "Your professor wants to study the patterns of alcohol prohibition in the 1900's.\n",
    "You can't seem to find any R packages that already provide this data, but you have found a website that contains a table.\n",
    "Knowing you're a true programmer you don't want to take the time to copy the data into a .csv file by hand\n",
    "You decide to look into web scraping so that you can programmtically snatch this data. \n",
    "Your goal is to scrape the data and put it in tidy long format exactly as demonstrated in \"data/tidy_data_15.txt\".\n",
    "\n",
    "Bonus: Recreate the graphic found at: \"data/graphic_challenge_15.png\"\n",
    "\n",
    "Input Data: https://pubs.niaaa.nih.gov/publications/Surveillance95/tab1_10.htm"
   ]
  },
  {
   "cell_type": "code",
   "execution_count": null,
   "metadata": {},
   "outputs": [],
   "source": []
  },
  {
   "cell_type": "markdown",
   "metadata": {},
   "source": [
    "## Challenge 16\n",
    "\n",
    "Challenge Description:\n",
    "Many times in the real world, data does not come in nice and neat packages.\n",
    "No longer do you need to throw your computer out the window when you find out the data you need is locked in PDF file.\n",
    "R has the power to scrape data from PDF files, but it comes with a price.\n",
    "Unlike html, PDF's don't have tags that make the document organized beneath a style sheet.\n",
    "Your challenge is to scrape and recreate the table as is from the PDF of your input data. \n",
    "\n",
    "Bonus: Find a more efficient way to complete this challenge than I did.\n",
    "\n",
    "Hint: library(pdftools), library(stringr), library(purrr) can be helpful friends in this journey.\n",
    "\n",
    "Input Data: \"data/input_data_16.pdf\""
   ]
  },
  {
   "cell_type": "code",
   "execution_count": null,
   "metadata": {},
   "outputs": [],
   "source": []
  },
  {
   "cell_type": "markdown",
   "metadata": {},
   "source": [
    "## Challenge 17\n",
    "\n",
    "Challenge Description:\n",
    "One of the blessings of the Tidyverse is the ability to use Non-Standard Evaluation in function calls.\n",
    "If you are not sure what that is, in a nutshell it allows us to not have to use the verbose \"dat\\\\$column\" notation. \n",
    "For example, select(iris, Species) will return just the Species column. We didn't have to specify the column with a \"$\".\n",
    "Since Tidyverse is such a great tool, we will want to be able to create our functions that play nicely with it. \n",
    "Your challenge is to write a function that takes a data.frame \n",
    "and a grouping variable and returns the proportion of that variable using Non-Standard Evaluation. \n",
    "\n",
    "Example:\n",
    "Your input data is a dataset containing probability of survival for several superheros. \n",
    "Each row is an independent mission that particular superhero completed. \n",
    "We are just interested in the percent of missions each superhero has completed relative to the whole. \n",
    "(The survival column is not really of interest here so don't let it bother you)\n",
    "Your code should appear exactly as follows, once your function works:\n",
    "\n",
    "id <- read_csv(\"../data/input_data_17.txt\")\n",
    "\n",
    "id %>% proportion(superhero)\n",
    "\n",
    "Your output should look like this:\n",
    "A tibble: 6 x 3\n",
    " superhero           n prop_n\n",
    " <chr>           <int>  <dbl>\n",
    "* 1 Captain America  4947 0.495 \n",
    "* 2 Dr. Strange      1495 0.150 \n",
    "* 3 Iron Man         1020 0.102 \n",
    "* 4 Thor             1017 0.102 \n",
    "* 5 Hulk             1006 0.101 \n",
    "* 6 Black Widow       515 0.0515\n",
    "\n",
    "Input Data (\"data/input_data_17.txt\"):"
   ]
  },
  {
   "cell_type": "code",
   "execution_count": null,
   "metadata": {},
   "outputs": [],
   "source": []
  },
  {
   "cell_type": "markdown",
   "metadata": {},
   "source": [
    "## Challenge 18\n",
    "\n",
    "Challenge Description:\n",
    "For this challenge you are required to create your own challenge and them submit a Github Pull Request on the master branch of this repo.\n",
    "This challenge can be of any difficulty and you are to assign your own points to it. \n",
    "Make sure to follow the correct formatting established by the previous problems\n",
    "and place the challenge is the \"user_challenges\" folder!\n",
    "Once your pull request gets accepted, you will be awarded the points and future players can try to solve your challenge!"
   ]
  },
  {
   "cell_type": "code",
   "execution_count": null,
   "metadata": {},
   "outputs": [],
   "source": []
  },
  {
   "cell_type": "markdown",
   "metadata": {},
   "source": [
    "## Challenge 19\n",
    "\n",
    "Challenge Description:\n",
    "Now it is time. You have been run through the gauntlet of R programming and must be baptized by becoming an open-source developer.\n",
    "Take the time to build a simple package that can solve a problem that is useful to you. \n",
    "Then read up on the process of organizing and submitting your package to CRAN. \n",
    "\n",
    "Reading to get you started: http://r-pkgs.had.co.nz/release.html"
   ]
  },
  {
   "cell_type": "code",
   "execution_count": null,
   "metadata": {},
   "outputs": [],
   "source": []
  }
 ],
 "metadata": {
  "kernelspec": {
   "display_name": "R",
   "language": "R",
   "name": "ir"
  },
  "language_info": {
   "codemirror_mode": "r",
   "file_extension": ".r",
   "mimetype": "text/x-r-source",
   "name": "R",
   "pygments_lexer": "r",
   "version": "3.5.1"
  }
 },
 "nbformat": 4,
 "nbformat_minor": 4
}
